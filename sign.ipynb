{
  "nbformat": 4,
  "nbformat_minor": 0,
  "metadata": {
    "colab": {
      "name": "sign.ipynb",
      "provenance": [],
      "mount_file_id": "1xiECCZ0gXFnU98exWyLkuzcGgHR2Ysqi",
      "authorship_tag": "ABX9TyMwlpjHhbNy1LaobjdlOIqj"
    },
    "kernelspec": {
      "name": "python3",
      "display_name": "Python 3"
    }
  },
  "cells": [
    {
      "cell_type": "code",
      "metadata": {
        "id": "tnNJ0Bj4ZXkE"
      },
      "source": [
        "import pandas as pd\n",
        "import numpy as np\n",
        "import matplotlib.pyplot as plt\n",
        "%matplotlib inline\n",
        "import tensorflow as tf\n",
        "import tensorflow.keras as keras\n",
        "from tensorflow.keras.preprocessing.image import ImageDataGenerator\n",
        "from tensorflow.keras.models import Sequential\n",
        "from tensorflow.keras.layers import Dense,Flatten,Conv2D,MaxPool2D,BatchNormalization,Dropout\n",
        "from tensorflow.keras.layers import MaxPooling2D"
      ],
      "execution_count": 4,
      "outputs": []
    },
    {
      "cell_type": "code",
      "metadata": {
        "id": "trGMr0f7ZeNF"
      },
      "source": [
        "train=pd.read_csv('/content/drive/My Drive/sign_mnist_train/sign_mnist_train.csv')\n",
        "test=pd.read_csv('/content/drive/My Drive/sign_mnist_test/sign_mnist_test.csv')"
      ],
      "execution_count": 5,
      "outputs": []
    },
    {
      "cell_type": "code",
      "metadata": {
        "id": "CZOkLG08QGzZ",
        "outputId": "9964eb87-c5e8-4ba9-8303-c09cac296149",
        "colab": {
          "base_uri": "https://localhost:8080/"
        }
      },
      "source": [
        "x_train=np.array(train.drop(['label'],axis=1)).reshape(-1,28,28)\n",
        "print(x_train.shape)\n",
        "x_test=np.array(test.drop(['label'],axis=1)).reshape(-1,28,28)\n",
        "print(x_test.shape)"
      ],
      "execution_count": 6,
      "outputs": [
        {
          "output_type": "stream",
          "text": [
            "(27455, 28, 28)\n",
            "(7172, 28, 28)\n"
          ],
          "name": "stdout"
        }
      ]
    },
    {
      "cell_type": "code",
      "metadata": {
        "id": "wvalIyhOQreY"
      },
      "source": [
        ""
      ],
      "execution_count": null,
      "outputs": []
    }
  ]
}